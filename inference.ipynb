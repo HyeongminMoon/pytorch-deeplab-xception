{
 "cells": [
  {
   "cell_type": "code",
   "execution_count": null,
   "id": "f89c4d78-d2c7-45cf-a721-486bef8a2317",
   "metadata": {},
   "outputs": [],
   "source": [
    "import argparse\n",
    "import os\n",
    "import numpy as np\n",
    "from tqdm import tqdm\n",
    "\n",
    "from mypath import Path\n",
    "from dataloaders import make_data_loader\n",
    "from modeling.sync_batchnorm.replicate import patch_replication_callback\n",
    "from modeling.deeplab import *\n",
    "from utils.loss import SegmentationLosses\n",
    "from utils.calculate_weights import calculate_weigths_labels\n",
    "from utils.lr_scheduler import LR_Scheduler\n",
    "from utils.saver import Saver\n",
    "from utils.summaries import TensorboardSummary\n",
    "from utils.metrics import Evaluator"
   ]
  },
  {
   "cell_type": "code",
   "execution_count": null,
   "id": "a1a44cd7-0aab-4205-9491-f70c1a02fdff",
   "metadata": {},
   "outputs": [],
   "source": [
    "model = DeepLab(num_classes=2, backbone='xception', output_stride=16, sync_bn=False, freeze_bn=False)"
   ]
  },
  {
   "cell_type": "code",
   "execution_count": null,
   "id": "dfc41321-46f3-4da7-a243-2a6ce2cdd4a6",
   "metadata": {},
   "outputs": [],
   "source": [
    "import torch\n",
    "# run/lits_liver/deeplab-xception-liver-bce/model_best.pth.tar\n",
    "\n",
    "ckpt = torch.load('run/lits_liver/deeplab-xception-liver-bce/model_best.pth.tar')\n",
    "state_dict = ckpt['state_dict']\n",
    "model.load_state_dict(state_dict)"
   ]
  },
  {
   "cell_type": "code",
   "execution_count": null,
   "id": "8ab7df8d-5f80-40b5-b8ef-44ea46bd0bfe",
   "metadata": {},
   "outputs": [],
   "source": [
    "from dataloaders.datasets.lits import LiverSegmentation\n",
    "from torch.utils.data import DataLoader\n",
    "import matplotlib.pyplot as plt\n",
    "import argparse\n",
    "\n",
    "# Define Dataloader\n",
    "parser = argparse.ArgumentParser()\n",
    "parser.add_argument('-f')\n",
    "args = parser.parse_args()\n",
    "args.base_size = 513\n",
    "args.crop_size = 513\n",
    "\n",
    "liver_test = LiverSegmentation(args, split='val')\n",
    "print(\"num test img: \", len(liver_test))\n",
    "dataloader = DataLoader(liver_test, batch_size=5, shuffle=True, num_workers=0)\n",
    "\n",
    "device = 'cuda'\n",
    "model.to(device)\n",
    "model.eval()\n",
    "\n",
    "for i, sample in enumerate(dataloader):\n",
    "    image, target = sample['image'], sample['label']\n",
    "    image = image.to(device)\n",
    "    with torch.no_grad():\n",
    "        output = model(image)\n",
    "    \n",
    "    pred = output.data.cpu().numpy()\n",
    "    target = target.cpu().numpy()\n",
    "    pred = np.argmax(pred, axis=1)\n",
    "    # print(np.unique(pred))\n",
    "    # print(np.unique(target))\n",
    "    \n",
    "    image = image.cpu().numpy()\n",
    "    for idx in range(5):\n",
    "        if len(np.unique(pred[idx])) > 1 or len(np.unique(target[idx])) > 1:\n",
    "            print(i, idx)\n",
    "            pred_ = pred[idx].astype(np.uint8)\n",
    "            pred_[pred_ != 0] = 255\n",
    "\n",
    "            target_ = target[idx].astype(np.uint8)\n",
    "            target_[target_ != 0] = 255\n",
    "\n",
    "            img_tmp = np.transpose(image[idx], axes=[1, 2, 0])\n",
    "            img_tmp *= (0.229, 0.224, 0.225)\n",
    "            img_tmp += (0.485, 0.456, 0.406)\n",
    "            img_tmp *= 255.0\n",
    "            img_tmp = img_tmp.astype(np.uint8)\n",
    "\n",
    "            display(Image.fromarray(pred_))\n",
    "            display(Image.fromarray(target_))\n",
    "            display(Image.fromarray(img_tmp))\n",
    "    "
   ]
  },
  {
   "cell_type": "code",
   "execution_count": null,
   "id": "e19ad542-ceee-45a1-bb32-72f9097519c4",
   "metadata": {},
   "outputs": [],
   "source": []
  },
  {
   "cell_type": "code",
   "execution_count": null,
   "id": "34fbd80f-e28a-4ede-9c40-58b959ef368a",
   "metadata": {},
   "outputs": [],
   "source": []
  },
  {
   "cell_type": "code",
   "execution_count": null,
   "id": "036db26e-41cc-43d8-bf11-7ee6ada01a3e",
   "metadata": {},
   "outputs": [],
   "source": []
  },
  {
   "cell_type": "code",
   "execution_count": null,
   "id": "fa20ffbc-d8cf-4732-ada9-22a778f12612",
   "metadata": {},
   "outputs": [],
   "source": [
    "np.unique(target[1])"
   ]
  },
  {
   "cell_type": "code",
   "execution_count": null,
   "id": "09c57e60-2089-46d5-9b99-1f4c0d7c3168",
   "metadata": {},
   "outputs": [],
   "source": [
    "from PIL import Image\n",
    "idx = 3\n",
    "\n",
    "pred_ = pred[idx].astype(np.uint8)\n",
    "pred_[pred_ != 0] = 255\n",
    "\n",
    "target_ = target[idx].astype(np.uint8)\n",
    "target_[target_ != 0] = 255\n",
    "\n",
    "# image = image.cpu().numpy()\n",
    "img_tmp = np.transpose(image[idx], axes=[1, 2, 0])\n",
    "img_tmp *= (0.229, 0.224, 0.225)\n",
    "img_tmp += (0.485, 0.456, 0.406)\n",
    "img_tmp *= 255.0\n",
    "img_tmp = img_tmp.astype(np.uint8)\n",
    "\n",
    "display(Image.fromarray(pred_))\n",
    "display(Image.fromarray(target_))\n",
    "Image.fromarray(img_tmp)"
   ]
  },
  {
   "cell_type": "code",
   "execution_count": null,
   "id": "bf64c880-dc48-4eba-9713-a5585ef552de",
   "metadata": {},
   "outputs": [],
   "source": [
    "# image = image.cpu().numpy()\n",
    "img_tmp = np.transpose(image[3], axes=[1, 2, 0])\n",
    "img_tmp *= (0.229, 0.224, 0.225)\n",
    "img_tmp += (0.485, 0.456, 0.406)\n",
    "img_tmp *= 255.0\n",
    "img_tmp = img_tmp.astype(np.uint8)"
   ]
  },
  {
   "cell_type": "code",
   "execution_count": null,
   "id": "f04bbdce-8dcf-4e60-adee-e03f7f0dc77c",
   "metadata": {},
   "outputs": [],
   "source": [
    "Image.fromarray(img_tmp)"
   ]
  },
  {
   "cell_type": "code",
   "execution_count": null,
   "id": "885991dc-c776-49a2-a18b-e03754e9ee1c",
   "metadata": {},
   "outputs": [],
   "source": []
  }
 ],
 "metadata": {
  "kernelspec": {
   "display_name": "Python 3 (ipykernel)",
   "language": "python",
   "name": "python3"
  },
  "language_info": {
   "codemirror_mode": {
    "name": "ipython",
    "version": 3
   },
   "file_extension": ".py",
   "mimetype": "text/x-python",
   "name": "python",
   "nbconvert_exporter": "python",
   "pygments_lexer": "ipython3",
   "version": "3.8.10"
  }
 },
 "nbformat": 4,
 "nbformat_minor": 5
}
