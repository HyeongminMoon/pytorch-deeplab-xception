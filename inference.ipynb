{
 "cells": [
  {
   "cell_type": "code",
   "execution_count": 1,
   "id": "f89c4d78-d2c7-45cf-a721-486bef8a2317",
   "metadata": {},
   "outputs": [],
   "source": [
    "# load library\n",
    "import argparse\n",
    "import os\n",
    "import numpy as np\n",
    "from tqdm import tqdm\n",
    "\n",
    "from mypath import Path\n",
    "from dataloaders import make_data_loader\n",
    "from modeling.sync_batchnorm.replicate import patch_replication_callback\n",
    "from modeling.deeplab import *\n",
    "from utils.loss import SegmentationLosses\n",
    "from utils.calculate_weights import calculate_weigths_labels\n",
    "from utils.lr_scheduler import LR_Scheduler\n",
    "from utils.saver import Saver\n",
    "# from utils.summaries import TensorboardSummary\n",
    "from utils.metrics import Evaluator\n",
    "\n",
    "from dataloaders.datasets.lits import LiverSegmentation, TumorSegmentation\n",
    "from torch.utils.data import DataLoader\n",
    "import matplotlib.pyplot as plt\n",
    "import argparse\n",
    "from PIL import Image\n",
    "import cv2\n",
    "import time\n",
    "import torch"
   ]
  },
  {
   "cell_type": "code",
   "execution_count": 2,
   "id": "a1a44cd7-0aab-4205-9491-f70c1a02fdff",
   "metadata": {},
   "outputs": [],
   "source": [
    "from scipy.ndimage import morphology\n",
    "\n",
    "def surfd(input1, input2, sampling=1, connectivity=1):\n",
    "    \n",
    "    input_1 = np.atleast_1d(input1.astype(np.bool))\n",
    "    input_2 = np.atleast_1d(input2.astype(np.bool))\n",
    "    \n",
    "\n",
    "    conn = morphology.generate_binary_structure(input_1.ndim, connectivity)\n",
    "\n",
    "    S = input_1 ^ morphology.binary_erosion(input_1, conn)\n",
    "    Sprime = input_2 ^ morphology.binary_erosion(input_2, conn)\n",
    "\n",
    "    \n",
    "    dta = morphology.distance_transform_edt(~S,sampling)\n",
    "    dtb = morphology.distance_transform_edt(~Sprime,sampling)\n",
    "    \n",
    "    sds = np.concatenate([np.ravel(dta[Sprime!=0]), np.ravel(dtb[S!=0])])\n",
    "       \n",
    "    \n",
    "    return sds"
   ]
  },
  {
   "cell_type": "code",
   "execution_count": 9,
   "id": "d9d7d7c0-4f89-44ff-b85b-28ed02663054",
   "metadata": {},
   "outputs": [],
   "source": [
    "parser = argparse.ArgumentParser()\n",
    "parser.add_argument('-f')\n",
    "parser.add_argument('--batch-size', type=int, default=200)\n",
    "parser.add_argument('--base-size', type=int, default=256)\n",
    "parser.add_argument('--crop-size', type=int, default=256)\n",
    "parser.add_argument('--mode', type=str, default='val')\n",
    "parser.add_argument('--kind', type=str, default='liver')\n",
    "parser.add_argument('--model-path', type=str, default='models/95_liver33.pth.tar')\n",
    "parser.add_argument('--backbone', type=str, default='xception')\n",
    "# parser.add_argument('--model-path', type=str, default='models/95_liver33.pth.tar')\n",
    "# parser.add_argument('--backbone', type=str, default='xception')\n",
    "\n",
    "args = parser.parse_args()"
   ]
  },
  {
   "cell_type": "code",
   "execution_count": 10,
   "id": "ea4436bf-39eb-4d31-a1e8-17a685f7b516",
   "metadata": {},
   "outputs": [
    {
     "data": {
      "text/plain": [
       "<All keys matched successfully>"
      ]
     },
     "execution_count": 10,
     "metadata": {},
     "output_type": "execute_result"
    }
   ],
   "source": [
    "# load model\n",
    "model = DeepLab(num_classes=2, backbone=args.backbone, output_stride=16, sync_bn=False, freeze_bn=False)\n",
    "\n",
    "# ckpt = torch.load('run/lits_tumor/resume-tumor-bce-crop/experiment_0/_checkpoint37.pth.tar')#67 0.8809 0.8809\n",
    "ckpt = torch.load(args.model_path)#72 \n",
    "state_dict = ckpt['state_dict']\n",
    "model.load_state_dict(state_dict)"
   ]
  },
  {
   "cell_type": "code",
   "execution_count": 11,
   "id": "87668a5c-a9eb-4ef9-8b62-1107fddf036f",
   "metadata": {},
   "outputs": [
    {
     "data": {
      "text/plain": [
       "'val'"
      ]
     },
     "execution_count": 11,
     "metadata": {},
     "output_type": "execute_result"
    }
   ],
   "source": [
    "args.mode = 'val'\n",
    "args.mode"
   ]
  },
  {
   "cell_type": "code",
   "execution_count": 12,
   "id": "8ab7df8d-5f80-40b5-b8ef-44ea46bd0bfe",
   "metadata": {
    "scrolled": true,
    "tags": []
   },
   "outputs": [
    {
     "name": "stdout",
     "output_type": "stream",
     "text": [
      "num test img:  761\n"
     ]
    },
    {
     "name": "stderr",
     "output_type": "stream",
     "text": [
      "/tmp/ipykernel_221/2357622674.py:53: RuntimeWarning: invalid value encountered in long_scalars\n",
      "  voe = 1.0 - np.sum(intersection)/np.sum(union)\n",
      "/tmp/ipykernel_221/2357622674.py:72: RuntimeWarning: invalid value encountered in true_divide\n",
      "  cos_sim = np.dot(target_, pred_)/(np.linalg.norm(target_)*np.linalg.norm(pred_))\n",
      "/tmp/ipykernel_221/2357622674.py:73: RuntimeWarning: invalid value encountered in double_scalars\n",
      "  precision = tp/(tp+fp)\n",
      "/tmp/ipykernel_221/2357622674.py:74: RuntimeWarning: invalid value encountered in double_scalars\n",
      "  recall = tp/(tp+fn)\n"
     ]
    },
    {
     "name": "stdout",
     "output_type": "stream",
     "text": [
      "num test img:  751\n"
     ]
    },
    {
     "name": "stderr",
     "output_type": "stream",
     "text": [
      "/tmp/ipykernel_221/2357622674.py:53: RuntimeWarning: invalid value encountered in long_scalars\n",
      "  voe = 1.0 - np.sum(intersection)/np.sum(union)\n",
      "/tmp/ipykernel_221/2357622674.py:72: RuntimeWarning: invalid value encountered in true_divide\n",
      "  cos_sim = np.dot(target_, pred_)/(np.linalg.norm(target_)*np.linalg.norm(pred_))\n",
      "/tmp/ipykernel_221/2357622674.py:73: RuntimeWarning: invalid value encountered in double_scalars\n",
      "  precision = tp/(tp+fp)\n",
      "/tmp/ipykernel_221/2357622674.py:74: RuntimeWarning: invalid value encountered in double_scalars\n",
      "  recall = tp/(tp+fn)\n"
     ]
    },
    {
     "name": "stdout",
     "output_type": "stream",
     "text": [
      "num test img:  836\n"
     ]
    },
    {
     "name": "stderr",
     "output_type": "stream",
     "text": [
      "/tmp/ipykernel_221/2357622674.py:53: RuntimeWarning: invalid value encountered in long_scalars\n",
      "  voe = 1.0 - np.sum(intersection)/np.sum(union)\n",
      "/tmp/ipykernel_221/2357622674.py:72: RuntimeWarning: invalid value encountered in true_divide\n",
      "  cos_sim = np.dot(target_, pred_)/(np.linalg.norm(target_)*np.linalg.norm(pred_))\n",
      "/tmp/ipykernel_221/2357622674.py:73: RuntimeWarning: invalid value encountered in double_scalars\n",
      "  precision = tp/(tp+fp)\n",
      "/tmp/ipykernel_221/2357622674.py:74: RuntimeWarning: invalid value encountered in double_scalars\n",
      "  recall = tp/(tp+fn)\n"
     ]
    },
    {
     "name": "stdout",
     "output_type": "stream",
     "text": [
      "num test img:  846\n"
     ]
    },
    {
     "name": "stderr",
     "output_type": "stream",
     "text": [
      "/tmp/ipykernel_221/2357622674.py:53: RuntimeWarning: invalid value encountered in long_scalars\n",
      "  voe = 1.0 - np.sum(intersection)/np.sum(union)\n",
      "/tmp/ipykernel_221/2357622674.py:72: RuntimeWarning: invalid value encountered in true_divide\n",
      "  cos_sim = np.dot(target_, pred_)/(np.linalg.norm(target_)*np.linalg.norm(pred_))\n",
      "/tmp/ipykernel_221/2357622674.py:73: RuntimeWarning: invalid value encountered in double_scalars\n",
      "  precision = tp/(tp+fp)\n",
      "/tmp/ipykernel_221/2357622674.py:74: RuntimeWarning: invalid value encountered in double_scalars\n",
      "  recall = tp/(tp+fn)\n"
     ]
    },
    {
     "name": "stdout",
     "output_type": "stream",
     "text": [
      "num test img:  846\n"
     ]
    },
    {
     "name": "stderr",
     "output_type": "stream",
     "text": [
      "/tmp/ipykernel_221/2357622674.py:53: RuntimeWarning: invalid value encountered in long_scalars\n",
      "  voe = 1.0 - np.sum(intersection)/np.sum(union)\n",
      "/tmp/ipykernel_221/2357622674.py:72: RuntimeWarning: invalid value encountered in true_divide\n",
      "  cos_sim = np.dot(target_, pred_)/(np.linalg.norm(target_)*np.linalg.norm(pred_))\n",
      "/tmp/ipykernel_221/2357622674.py:73: RuntimeWarning: invalid value encountered in double_scalars\n",
      "  precision = tp/(tp+fp)\n",
      "/tmp/ipykernel_221/2357622674.py:74: RuntimeWarning: invalid value encountered in double_scalars\n",
      "  recall = tp/(tp+fn)\n"
     ]
    },
    {
     "name": "stdout",
     "output_type": "stream",
     "text": [
      "num test img:  908\n"
     ]
    },
    {
     "name": "stderr",
     "output_type": "stream",
     "text": [
      "/tmp/ipykernel_221/2357622674.py:72: RuntimeWarning: invalid value encountered in true_divide\n",
      "  cos_sim = np.dot(target_, pred_)/(np.linalg.norm(target_)*np.linalg.norm(pred_))\n",
      "/tmp/ipykernel_221/2357622674.py:74: RuntimeWarning: invalid value encountered in double_scalars\n",
      "  recall = tp/(tp+fn)\n",
      "/tmp/ipykernel_221/2357622674.py:53: RuntimeWarning: invalid value encountered in long_scalars\n",
      "  voe = 1.0 - np.sum(intersection)/np.sum(union)\n",
      "/tmp/ipykernel_221/2357622674.py:73: RuntimeWarning: invalid value encountered in double_scalars\n",
      "  precision = tp/(tp+fp)\n"
     ]
    },
    {
     "name": "stdout",
     "output_type": "stream",
     "text": [
      "num test img:  836\n"
     ]
    },
    {
     "name": "stderr",
     "output_type": "stream",
     "text": [
      "/tmp/ipykernel_221/2357622674.py:53: RuntimeWarning: invalid value encountered in long_scalars\n",
      "  voe = 1.0 - np.sum(intersection)/np.sum(union)\n",
      "/tmp/ipykernel_221/2357622674.py:72: RuntimeWarning: invalid value encountered in true_divide\n",
      "  cos_sim = np.dot(target_, pred_)/(np.linalg.norm(target_)*np.linalg.norm(pred_))\n",
      "/tmp/ipykernel_221/2357622674.py:73: RuntimeWarning: invalid value encountered in double_scalars\n",
      "  precision = tp/(tp+fp)\n",
      "/tmp/ipykernel_221/2357622674.py:74: RuntimeWarning: invalid value encountered in double_scalars\n",
      "  recall = tp/(tp+fn)\n"
     ]
    },
    {
     "name": "stdout",
     "output_type": "stream",
     "text": [
      "num test img:  427\n"
     ]
    },
    {
     "name": "stderr",
     "output_type": "stream",
     "text": [
      "/tmp/ipykernel_221/2357622674.py:53: RuntimeWarning: invalid value encountered in long_scalars\n",
      "  voe = 1.0 - np.sum(intersection)/np.sum(union)\n",
      "/tmp/ipykernel_221/2357622674.py:72: RuntimeWarning: invalid value encountered in true_divide\n",
      "  cos_sim = np.dot(target_, pred_)/(np.linalg.norm(target_)*np.linalg.norm(pred_))\n",
      "/tmp/ipykernel_221/2357622674.py:73: RuntimeWarning: invalid value encountered in double_scalars\n",
      "  precision = tp/(tp+fp)\n",
      "/tmp/ipykernel_221/2357622674.py:74: RuntimeWarning: invalid value encountered in double_scalars\n",
      "  recall = tp/(tp+fn)\n"
     ]
    },
    {
     "name": "stdout",
     "output_type": "stream",
     "text": [
      "num test img:  461\n"
     ]
    },
    {
     "name": "stderr",
     "output_type": "stream",
     "text": [
      "/tmp/ipykernel_221/2357622674.py:53: RuntimeWarning: invalid value encountered in long_scalars\n",
      "  voe = 1.0 - np.sum(intersection)/np.sum(union)\n",
      "/tmp/ipykernel_221/2357622674.py:72: RuntimeWarning: invalid value encountered in true_divide\n",
      "  cos_sim = np.dot(target_, pred_)/(np.linalg.norm(target_)*np.linalg.norm(pred_))\n",
      "/tmp/ipykernel_221/2357622674.py:73: RuntimeWarning: invalid value encountered in double_scalars\n",
      "  precision = tp/(tp+fp)\n",
      "/tmp/ipykernel_221/2357622674.py:74: RuntimeWarning: invalid value encountered in double_scalars\n",
      "  recall = tp/(tp+fn)\n"
     ]
    },
    {
     "name": "stdout",
     "output_type": "stream",
     "text": [
      "num test img:  424\n"
     ]
    },
    {
     "name": "stderr",
     "output_type": "stream",
     "text": [
      "/tmp/ipykernel_221/2357622674.py:53: RuntimeWarning: invalid value encountered in long_scalars\n",
      "  voe = 1.0 - np.sum(intersection)/np.sum(union)\n",
      "/tmp/ipykernel_221/2357622674.py:72: RuntimeWarning: invalid value encountered in true_divide\n",
      "  cos_sim = np.dot(target_, pred_)/(np.linalg.norm(target_)*np.linalg.norm(pred_))\n",
      "/tmp/ipykernel_221/2357622674.py:73: RuntimeWarning: invalid value encountered in double_scalars\n",
      "  precision = tp/(tp+fp)\n",
      "/tmp/ipykernel_221/2357622674.py:74: RuntimeWarning: invalid value encountered in double_scalars\n",
      "  recall = tp/(tp+fn)\n"
     ]
    },
    {
     "name": "stdout",
     "output_type": "stream",
     "text": [
      "num test img:  463\n"
     ]
    },
    {
     "name": "stderr",
     "output_type": "stream",
     "text": [
      "/tmp/ipykernel_221/2357622674.py:53: RuntimeWarning: invalid value encountered in long_scalars\n",
      "  voe = 1.0 - np.sum(intersection)/np.sum(union)\n",
      "/tmp/ipykernel_221/2357622674.py:72: RuntimeWarning: invalid value encountered in true_divide\n",
      "  cos_sim = np.dot(target_, pred_)/(np.linalg.norm(target_)*np.linalg.norm(pred_))\n",
      "/tmp/ipykernel_221/2357622674.py:73: RuntimeWarning: invalid value encountered in double_scalars\n",
      "  precision = tp/(tp+fp)\n",
      "/tmp/ipykernel_221/2357622674.py:74: RuntimeWarning: invalid value encountered in double_scalars\n",
      "  recall = tp/(tp+fn)\n"
     ]
    },
    {
     "name": "stdout",
     "output_type": "stream",
     "text": [
      "num test img:  422\n"
     ]
    },
    {
     "name": "stderr",
     "output_type": "stream",
     "text": [
      "/tmp/ipykernel_221/2357622674.py:53: RuntimeWarning: invalid value encountered in long_scalars\n",
      "  voe = 1.0 - np.sum(intersection)/np.sum(union)\n",
      "/tmp/ipykernel_221/2357622674.py:72: RuntimeWarning: invalid value encountered in true_divide\n",
      "  cos_sim = np.dot(target_, pred_)/(np.linalg.norm(target_)*np.linalg.norm(pred_))\n",
      "/tmp/ipykernel_221/2357622674.py:73: RuntimeWarning: invalid value encountered in double_scalars\n",
      "  precision = tp/(tp+fp)\n",
      "/tmp/ipykernel_221/2357622674.py:74: RuntimeWarning: invalid value encountered in double_scalars\n",
      "  recall = tp/(tp+fn)\n"
     ]
    },
    {
     "name": "stdout",
     "output_type": "stream",
     "text": [
      "num test img:  432\n"
     ]
    },
    {
     "name": "stderr",
     "output_type": "stream",
     "text": [
      "/tmp/ipykernel_221/2357622674.py:53: RuntimeWarning: invalid value encountered in long_scalars\n",
      "  voe = 1.0 - np.sum(intersection)/np.sum(union)\n",
      "/tmp/ipykernel_221/2357622674.py:72: RuntimeWarning: invalid value encountered in true_divide\n",
      "  cos_sim = np.dot(target_, pred_)/(np.linalg.norm(target_)*np.linalg.norm(pred_))\n",
      "/tmp/ipykernel_221/2357622674.py:73: RuntimeWarning: invalid value encountered in double_scalars\n",
      "  precision = tp/(tp+fp)\n",
      "/tmp/ipykernel_221/2357622674.py:74: RuntimeWarning: invalid value encountered in double_scalars\n",
      "  recall = tp/(tp+fn)\n"
     ]
    },
    {
     "name": "stdout",
     "output_type": "stream",
     "text": [
      "num test img:  407\n"
     ]
    },
    {
     "name": "stderr",
     "output_type": "stream",
     "text": [
      "/tmp/ipykernel_221/2357622674.py:53: RuntimeWarning: invalid value encountered in long_scalars\n",
      "  voe = 1.0 - np.sum(intersection)/np.sum(union)\n",
      "/tmp/ipykernel_221/2357622674.py:72: RuntimeWarning: invalid value encountered in true_divide\n",
      "  cos_sim = np.dot(target_, pred_)/(np.linalg.norm(target_)*np.linalg.norm(pred_))\n",
      "/tmp/ipykernel_221/2357622674.py:73: RuntimeWarning: invalid value encountered in double_scalars\n",
      "  precision = tp/(tp+fp)\n",
      "/tmp/ipykernel_221/2357622674.py:74: RuntimeWarning: invalid value encountered in double_scalars\n",
      "  recall = tp/(tp+fn)\n"
     ]
    },
    {
     "name": "stdout",
     "output_type": "stream",
     "text": [
      "num test img:  410\n"
     ]
    },
    {
     "name": "stderr",
     "output_type": "stream",
     "text": [
      "/tmp/ipykernel_221/2357622674.py:53: RuntimeWarning: invalid value encountered in long_scalars\n",
      "  voe = 1.0 - np.sum(intersection)/np.sum(union)\n",
      "/tmp/ipykernel_221/2357622674.py:72: RuntimeWarning: invalid value encountered in true_divide\n",
      "  cos_sim = np.dot(target_, pred_)/(np.linalg.norm(target_)*np.linalg.norm(pred_))\n",
      "/tmp/ipykernel_221/2357622674.py:73: RuntimeWarning: invalid value encountered in double_scalars\n",
      "  precision = tp/(tp+fp)\n",
      "/tmp/ipykernel_221/2357622674.py:74: RuntimeWarning: invalid value encountered in double_scalars\n",
      "  recall = tp/(tp+fn)\n"
     ]
    },
    {
     "name": "stdout",
     "output_type": "stream",
     "text": [
      "num test img:  401\n"
     ]
    },
    {
     "name": "stderr",
     "output_type": "stream",
     "text": [
      "/tmp/ipykernel_221/2357622674.py:53: RuntimeWarning: invalid value encountered in long_scalars\n",
      "  voe = 1.0 - np.sum(intersection)/np.sum(union)\n",
      "/tmp/ipykernel_221/2357622674.py:72: RuntimeWarning: invalid value encountered in true_divide\n",
      "  cos_sim = np.dot(target_, pred_)/(np.linalg.norm(target_)*np.linalg.norm(pred_))\n",
      "/tmp/ipykernel_221/2357622674.py:73: RuntimeWarning: invalid value encountered in double_scalars\n",
      "  precision = tp/(tp+fp)\n",
      "/tmp/ipykernel_221/2357622674.py:74: RuntimeWarning: invalid value encountered in double_scalars\n",
      "  recall = tp/(tp+fn)\n"
     ]
    },
    {
     "name": "stdout",
     "output_type": "stream",
     "text": [
      "num test img:  987\n"
     ]
    },
    {
     "name": "stderr",
     "output_type": "stream",
     "text": [
      "/tmp/ipykernel_221/2357622674.py:53: RuntimeWarning: invalid value encountered in long_scalars\n",
      "  voe = 1.0 - np.sum(intersection)/np.sum(union)\n",
      "/tmp/ipykernel_221/2357622674.py:72: RuntimeWarning: invalid value encountered in true_divide\n",
      "  cos_sim = np.dot(target_, pred_)/(np.linalg.norm(target_)*np.linalg.norm(pred_))\n",
      "/tmp/ipykernel_221/2357622674.py:73: RuntimeWarning: invalid value encountered in double_scalars\n",
      "  precision = tp/(tp+fp)\n",
      "/tmp/ipykernel_221/2357622674.py:74: RuntimeWarning: invalid value encountered in double_scalars\n",
      "  recall = tp/(tp+fn)\n"
     ]
    },
    {
     "name": "stdout",
     "output_type": "stream",
     "text": [
      "num test img:  654\n"
     ]
    },
    {
     "name": "stderr",
     "output_type": "stream",
     "text": [
      "/tmp/ipykernel_221/2357622674.py:53: RuntimeWarning: invalid value encountered in long_scalars\n",
      "  voe = 1.0 - np.sum(intersection)/np.sum(union)\n",
      "/tmp/ipykernel_221/2357622674.py:72: RuntimeWarning: invalid value encountered in true_divide\n",
      "  cos_sim = np.dot(target_, pred_)/(np.linalg.norm(target_)*np.linalg.norm(pred_))\n",
      "/tmp/ipykernel_221/2357622674.py:73: RuntimeWarning: invalid value encountered in double_scalars\n",
      "  precision = tp/(tp+fp)\n",
      "/tmp/ipykernel_221/2357622674.py:74: RuntimeWarning: invalid value encountered in double_scalars\n",
      "  recall = tp/(tp+fn)\n"
     ]
    },
    {
     "name": "stdout",
     "output_type": "stream",
     "text": [
      "num test img:  338\n"
     ]
    },
    {
     "name": "stderr",
     "output_type": "stream",
     "text": [
      "/tmp/ipykernel_221/2357622674.py:53: RuntimeWarning: invalid value encountered in long_scalars\n",
      "  voe = 1.0 - np.sum(intersection)/np.sum(union)\n",
      "/tmp/ipykernel_221/2357622674.py:72: RuntimeWarning: invalid value encountered in true_divide\n",
      "  cos_sim = np.dot(target_, pred_)/(np.linalg.norm(target_)*np.linalg.norm(pred_))\n",
      "/tmp/ipykernel_221/2357622674.py:73: RuntimeWarning: invalid value encountered in double_scalars\n",
      "  precision = tp/(tp+fp)\n",
      "/tmp/ipykernel_221/2357622674.py:74: RuntimeWarning: invalid value encountered in double_scalars\n",
      "  recall = tp/(tp+fn)\n"
     ]
    },
    {
     "name": "stdout",
     "output_type": "stream",
     "text": [
      "num test img:  624\n"
     ]
    },
    {
     "name": "stderr",
     "output_type": "stream",
     "text": [
      "/tmp/ipykernel_221/2357622674.py:53: RuntimeWarning: invalid value encountered in long_scalars\n",
      "  voe = 1.0 - np.sum(intersection)/np.sum(union)\n",
      "/tmp/ipykernel_221/2357622674.py:72: RuntimeWarning: invalid value encountered in true_divide\n",
      "  cos_sim = np.dot(target_, pred_)/(np.linalg.norm(target_)*np.linalg.norm(pred_))\n",
      "/tmp/ipykernel_221/2357622674.py:73: RuntimeWarning: invalid value encountered in double_scalars\n",
      "  precision = tp/(tp+fp)\n",
      "/tmp/ipykernel_221/2357622674.py:74: RuntimeWarning: invalid value encountered in double_scalars\n",
      "  recall = tp/(tp+fn)\n"
     ]
    },
    {
     "name": "stdout",
     "output_type": "stream",
     "text": [
      "avg_time:0.0002 precision:98.5506 recall:91.7224 dice:95.014 jaccard:65.764 voe:70.4582 assd:7.0141 vd:61.6383\n"
     ]
    }
   ],
   "source": [
    "# load data\n",
    "for sn in range(111, 131):\n",
    "    if args.kind == 'liver':\n",
    "        dataset_test = LiverSegmentation(args, split=args.mode, study_num=sn)\n",
    "    if args.kind == 'tumor':\n",
    "        dataset_test = TumorSegmentation(args, split=args.mode, study_num=sn)\n",
    "    print(\"num test img: \", len(dataset_test))\n",
    "    if len(dataset_test) == 0:\n",
    "        continue\n",
    "    dataloader = DataLoader(dataset_test, batch_size=args.batch_size, shuffle=False, num_workers=0)\n",
    "\n",
    "    # gpu use\n",
    "    device = 'cuda'\n",
    "    model.to(device)\n",
    "    model.eval()\n",
    "\n",
    "    # initialize scores\n",
    "    cnt = 0\n",
    "    total_precision = 0\n",
    "    total_recall = 0\n",
    "    total_time = 0\n",
    "    total_cos = 0\n",
    "    total_voe = 0\n",
    "    total_assd = 0\n",
    "    total_vd = 0\n",
    "    # Dice, jaccard, VOE, ASSD, RVD, MSSD \n",
    "    # run inference\n",
    "    for i, sample in enumerate(dataloader):\n",
    "        image, target = sample['image'], sample['label']\n",
    "        image = image.to(device)\n",
    "\n",
    "        start_time = time.time()\n",
    "        with torch.no_grad():\n",
    "            output = model(image)\n",
    "        timedelta = time.time() - start_time\n",
    "        total_time += timedelta\n",
    "\n",
    "        pred = output.data.cpu().numpy()\n",
    "        target = target.cpu().numpy()\n",
    "        pred = np.argmax(pred, axis=1)\n",
    "        # print(np.unique(pred))\n",
    "        # print(np.unique(target))\n",
    "\n",
    "        image = image.cpu().numpy()\n",
    "        for idx in range(len(pred)):\n",
    "            if args.mode == 'val':\n",
    "                ## scoring\n",
    "                pred_ = pred[idx].astype(np.uint8)\n",
    "                target_ = target[idx].astype(np.uint8)\n",
    "\n",
    "                intersection = np.logical_and(target_, pred_)\n",
    "                union = np.logical_or(target_, pred_)\n",
    "                voe = 1.0 - np.sum(intersection)/np.sum(union)\n",
    "                sds = surfd(target_, pred_)\n",
    "                if len(sds) == 0:\n",
    "                    assd = 0\n",
    "                else:\n",
    "                    assd = sds.mean()\n",
    "                if np.sum(target_) == 0:\n",
    "                    vd = 1.0\n",
    "                else:\n",
    "                    vd = abs((int(np.sum(pred_)) - int(np.sum(target_))) / args.crop_size**2)\n",
    "                # iou_score = np.sum(intersection) / np.sum(union)\n",
    "                tp = np.sum(np.logical_and(target_ == 1, pred_ == 1))/256**2\n",
    "                fp = np.sum(np.logical_and(target_ == 0, pred_ == 1))/256**2\n",
    "                tn = np.sum(np.logical_and(target_ == 0, pred_ == 0))/256**2\n",
    "                fn = np.sum(np.logical_and(target_ == 1, pred_ == 0))/256**2\n",
    "\n",
    "                target_ = target_.ravel()\n",
    "                pred_ = pred_.ravel()\n",
    "\n",
    "                cos_sim = np.dot(target_, pred_)/(np.linalg.norm(target_)*np.linalg.norm(pred_))\n",
    "                precision = tp/(tp+fp)\n",
    "                recall = tp/(tp+fn)\n",
    "                voe = np.nan_to_num(voe, nan=1.0)\n",
    "                cos_sim = np.nan_to_num(cos_sim, nan=1.0)\n",
    "                precision = np.nan_to_num(precision, nan=1.0)\n",
    "                recall = np.nan_to_num(recall, nan=1.0)\n",
    "\n",
    "                total_cos += cos_sim\n",
    "                total_precision+=precision\n",
    "                total_recall+=recall\n",
    "                total_voe += voe\n",
    "                total_assd+=assd\n",
    "                total_vd+=vd\n",
    "            elif args.mode == 'vis':\n",
    "                ##visualize(save)\n",
    "                pred_ = pred[idx].astype(np.uint8)\n",
    "                target_ = target[idx].astype(np.uint8)\n",
    "                pred_[pred_ != 0] = 255\n",
    "                target_[target_ != 0] = 255\n",
    "\n",
    "                img_tmp = np.transpose(image[idx], axes=[1, 2, 0])\n",
    "                img_tmp *= (0.229, 0.224, 0.225)\n",
    "                img_tmp += (0.485, 0.456, 0.406)\n",
    "                img_tmp *= 255.0\n",
    "                img_tmp = img_tmp.astype(np.uint8)\n",
    "\n",
    "                fig = plt.figure()\n",
    "                fig.tight_layout()\n",
    "                \n",
    "                ax1 = fig.add_subplot(1, 3, 1)\n",
    "                ax1.imshow(target_, cmap='gray')\n",
    "                # ax1.set_title('Label')\n",
    "                ax1.axes.xaxis.set_visible(False)\n",
    "                ax1.axes.yaxis.set_visible(False)\n",
    "                ax2 = fig.add_subplot(1, 3, 2)\n",
    "                ax2.imshow(img_tmp, cmap=plt.cm.bone)\n",
    "                # ax2.set_title('Original')\n",
    "                ax2.axes.xaxis.set_visible(False)\n",
    "                ax2.axes.yaxis.set_visible(False)\n",
    "                ax3 = fig.add_subplot(1, 3, 3)\n",
    "                ax3.imshow(pred_, cmap='gray')\n",
    "                # ax3.set_title('Predict')\n",
    "                ax3.axes.xaxis.set_visible(False)\n",
    "                ax3.axes.yaxis.set_visible(False)\n",
    "\n",
    "                # plt.show()\n",
    "                os.makedirs('val/'+args.kind+f'/{str(sn)}/', exist_ok=True)\n",
    "                plt.savefig('val/'+args.kind+f'/{str(sn)}/'+str(cnt)+'.png')\n",
    "                plt.close(fig)\n",
    "            cnt+=1\n",
    "            print(cnt, end='\\r')\n",
    "\n",
    "if args.mode == 'val':\n",
    "    # print scores\n",
    "    avg_time = total_time/cnt\n",
    "    p = total_precision/cnt*100\n",
    "    r = total_recall/cnt*100\n",
    "    cos = total_cos/cnt*100\n",
    "    f1 = 2*p*r/(p+r)\n",
    "    voe = total_voe/cnt*100\n",
    "    assd = total_assd/cnt\n",
    "    vd = total_vd/cnt*100\n",
    "    print(f\"avg_time:{round(avg_time,4)} precision:{round(p,4)} recall:{round(r,4)} dice:{round(f1,4)} jaccard:{round(cos,4)} voe:{round(voe,4)} assd:{round(assd,4)} vd:{round(vd,4)}\")"
   ]
  },
  {
   "cell_type": "code",
   "execution_count": null,
   "id": "6d0c60fc-d539-4cde-a124-c5fa188fa5ca",
   "metadata": {},
   "outputs": [],
   "source": [
    "#liver encoder\n",
    "avg_time:0.0058 precision:82.0091 recall:96.3349 dice:88.5966 jaccard:77.34 voe:79.59 assd:33.9379 vd:74.6414\n",
    "#liver decoder\n",
    "avg_time:0.0002 precision:43.4459 recall:78.314 dice:55.8874 jaccard:65.1172 voe:83.3158 assd:94.6391 vd:62.6889\n",
    "#liver aspp\n",
    "avg_time:0.0002 precision:54.8324 recall:94.1485 dice:69.3027 jaccard:78.0577 voe:81.2244 assd:96.2175 vd:74.6727"
   ]
  },
  {
   "cell_type": "code",
   "execution_count": 9,
   "id": "592ab5ab-ab35-42fe-ad3b-9f37a30b8a92",
   "metadata": {},
   "outputs": [
    {
     "name": "stdout",
     "output_type": "stream",
     "text": [
      "avg_time:0.0058 precision:82.0091 recall:96.3349 dice:88.5966 jaccard:77.34 voe:79.59 assd:33.9379 vd:74.6414\n"
     ]
    }
   ],
   "source": [
    "print(f\"avg_time:{round(avg_time,4)} precision:{round(p,4)} recall:{round(r,4)} dice:{round(f1,4)} jaccard:{round(cos,4)} voe:{round(voe,4)} assd:{round(assd,4)} vd:{round(vd,4)}\")"
   ]
  },
  {
   "cell_type": "code",
   "execution_count": null,
   "id": "9c6e04e7-4ffe-4ce9-a99e-de7e29febbe0",
   "metadata": {},
   "outputs": [],
   "source": []
  }
 ],
 "metadata": {
  "kernelspec": {
   "display_name": "Python 3 (ipykernel)",
   "language": "python",
   "name": "python3"
  },
  "language_info": {
   "codemirror_mode": {
    "name": "ipython",
    "version": 3
   },
   "file_extension": ".py",
   "mimetype": "text/x-python",
   "name": "python",
   "nbconvert_exporter": "python",
   "pygments_lexer": "ipython3",
   "version": "3.8.10"
  }
 },
 "nbformat": 4,
 "nbformat_minor": 5
}
